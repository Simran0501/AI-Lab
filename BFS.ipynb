{
 "cells": [
  {
   "cell_type": "markdown",
   "id": "6ee88c6a",
   "metadata": {},
   "source": [
    "# Breadth First Search"
   ]
  },
  {
   "cell_type": "code",
   "execution_count": 5,
   "id": "ace40747",
   "metadata": {},
   "outputs": [
    {
     "name": "stdout",
     "output_type": "stream",
     "text": [
      "Enter number of edges : 6\n",
      "0\n",
      "1\n",
      "0\n",
      "2\n",
      "1\n",
      "2\n",
      "2\n",
      "3\n",
      "3\n",
      "3\n",
      "2\n",
      "0\n",
      "Number of vertices in graph :  4\n",
      "defaultdict(<class 'list'>, {0: [1, 2], 1: [2], 2: [3, 0], 3: [3]})\n",
      "0 1 2 3 "
     ]
    }
   ],
   "source": [
    "from collections import defaultdict\n",
    "class Graph:\n",
    "    \n",
    "    def __init__(self):\n",
    "        self.graph = defaultdict(list)\n",
    "    \n",
    "    def addEdge(self, u, v):\n",
    "        self.graph[u].append(v)\n",
    "    \n",
    "    def Bfs(self, src):\n",
    "        l = len(self.graph)\n",
    "        print(\"Number of vertices in graph : \", l)\n",
    "        print(self.graph)\n",
    "        visited = [False]*l\n",
    "        queue = []\n",
    "        queue.append(src)\n",
    "        visited[src] = True\n",
    "        while(queue):\n",
    "            curr = queue.pop(0)\n",
    "            print(curr , end = \" \")\n",
    "            for adj in self.graph[curr]:\n",
    "                if visited[adj] == False:\n",
    "                    queue.append(adj)\n",
    "                    visited[adj] = True\n",
    "\n",
    "g = Graph()\n",
    "edges = int(input(\"Enter number of edges : \"))\n",
    "while(edges > 0):\n",
    "    u = int(input())\n",
    "    v = int(input())\n",
    "    g.addEdge(u, v)\n",
    "    edges -= 1\n",
    "src = int(input(\"Enter source vertex : \"))\n",
    "g.Bfs(src)\n",
    "        "
   ]
  }
 ],
 "metadata": {
  "kernelspec": {
   "display_name": "Python 3",
   "language": "python",
   "name": "python3"
  },
  "language_info": {
   "codemirror_mode": {
    "name": "ipython",
    "version": 3
   },
   "file_extension": ".py",
   "mimetype": "text/x-python",
   "name": "python",
   "nbconvert_exporter": "python",
   "pygments_lexer": "ipython3",
   "version": "3.8.8"
  }
 },
 "nbformat": 4,
 "nbformat_minor": 5
}
