{
 "cells": [
  {
   "cell_type": "markdown",
   "id": "372aa1d7",
   "metadata": {},
   "source": [
    "#Week : 1 Fundamentals of Python Programming"
   ]
  },
  {
   "cell_type": "markdown",
   "id": "943c0e7f",
   "metadata": {},
   "source": [
    "# Parse email address and find out the firstname, lastname and hostname"
   ]
  },
  {
   "cell_type": "code",
   "execution_count": 12,
   "id": "cdba1ee8",
   "metadata": {},
   "outputs": [
    {
     "name": "stdout",
     "output_type": "stream",
     "text": [
      "Parse email address and find out the firstname, lastname and hostname\n",
      "Enter an email address in format firstname.lastname@hostname.domainsimran.garg@gmail.com\n",
      "Firstname is  simran\n",
      "Lastname is  garg\n",
      "Hostname is  gmail\n"
     ]
    }
   ],
   "source": [
    "print(\"Parse email address and find out the firstname, lastname and hostname\")\n",
    "email = input(\"Enter an email address in format firstname.lastname@hostname.domain\")\n",
    "email_part = email.split('.')\n",
    "firstname = email_part[0]\n",
    "lastname = (email_part[1].split('@'))[0]\n",
    "hostname = (email_part[1].split('@'))[1]\n",
    "print(\"Firstname is \", firstname)\n",
    "print(\"Lastname is \", lastname)\n",
    "print(\"Hostname is \", hostname)"
   ]
  },
  {
   "cell_type": "markdown",
   "id": "3fdca38e",
   "metadata": {},
   "source": [
    "# Convert a positive integer into a Roman Number System"
   ]
  },
  {
   "cell_type": "code",
   "execution_count": 13,
   "id": "32d047fd",
   "metadata": {},
   "outputs": [
    {
     "name": "stdout",
     "output_type": "stream",
     "text": [
      "Convert a positive integer into a Roman Number System\n",
      "Enter a positive integer: 1789\n",
      "Answer is :  MDCCLXXXIX\n"
     ]
    }
   ],
   "source": [
    "print(\"Convert a positive integer into a Roman Number System\")\n",
    "base_number = [1,4,5,9,10,40,50,90,100,400,500,900,1000]\n",
    "roman_number = [\"I\", \"IV\", \"V\", \"IX\", \"X\", \"XL\", \"L\", \"XC\", \"C\", \"CD\", \"D\", \"CM\", \"M\"]\n",
    "num = int(input(\"Enter a positive integer: \"))\n",
    "ind = 12\n",
    "ans = \"\"\n",
    "while num != 0:\n",
    "    div = num//base_number[ind]\n",
    "    num%=base_number[ind]\n",
    "    while div != 0:\n",
    "        ans += roman_number[ind]\n",
    "        div -= 1\n",
    "    ind-=1\n",
    "print(\"Answer is : \", ans)"
   ]
  },
  {
   "cell_type": "markdown",
   "id": "dc952f3c",
   "metadata": {},
   "source": [
    "# Calculate the user's body mass index (BMI)"
   ]
  },
  {
   "cell_type": "code",
   "execution_count": 11,
   "id": "b6b1206e",
   "metadata": {},
   "outputs": [
    {
     "name": "stdout",
     "output_type": "stream",
     "text": [
      "Calculate the user's body mass index (BMI)\n",
      "Enter weight (kg) of the user : 68\n",
      "Enter height (m) of the user : 1.65\n",
      "The user with bmi 24.98 is : Obese\n"
     ]
    }
   ],
   "source": [
    "print(\"Calculate the user's body mass index (BMI)\")\n",
    "weight = float(input(\"Enter weight (kg) of the user : \"))\n",
    "height = float(input(\"Enter height (m) of the user : \"))\n",
    "bmi = weight / (height*height)\n",
    "category = \"\"\n",
    "if bmi < 18.5:\n",
    "    category = \"Underweight\"\n",
    "elif bmi >= 18.5 and bmi <= 24.9:\n",
    "    category = \"Healthy Weight\"\n",
    "elif bmi >= 25.0 and bmi <= 29.9:\n",
    "    category = \"Overweight\"\n",
    "else:\n",
    "    category = \"Obese\"\n",
    "print(\"The user with bmi \" + str(round(bmi,2)) + \" is : \" + category)"
   ]
  },
  {
   "cell_type": "code",
   "execution_count": null,
   "id": "55160635",
   "metadata": {},
   "outputs": [],
   "source": []
  }
 ],
 "metadata": {
  "kernelspec": {
   "display_name": "Python 3",
   "language": "python",
   "name": "python3"
  },
  "language_info": {
   "codemirror_mode": {
    "name": "ipython",
    "version": 3
   },
   "file_extension": ".py",
   "mimetype": "text/x-python",
   "name": "python",
   "nbconvert_exporter": "python",
   "pygments_lexer": "ipython3",
   "version": "3.8.8"
  }
 },
 "nbformat": 4,
 "nbformat_minor": 5
}
