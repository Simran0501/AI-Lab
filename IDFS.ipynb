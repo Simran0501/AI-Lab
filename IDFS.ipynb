{
 "cells": [
  {
   "cell_type": "code",
   "execution_count": 8,
   "id": "3fa29130",
   "metadata": {},
   "outputs": [
    {
     "name": "stdout",
     "output_type": "stream",
     "text": [
      "Enter number of nodes in the graph : 5\n",
      "Enter number of edges in the graph : 5\n",
      "Enter u vertex: 0\n",
      "Enter v vertex: 1\n",
      "Enter u vertex: 0\n",
      "Enter v vertex: 2\n",
      "Enter u vertex: 1\n",
      "Enter v vertex: 2\n",
      "Enter u vertex: 2\n",
      "Enter v vertex: 3\n",
      "Enter u vertex: 3\n",
      "Enter v vertex: 4\n",
      "Enter Target vertex : 1\n",
      "Enter max depth allowed for searching : 1\n",
      "Enter Source vertex : 0\n",
      "Target is reachable from source within max depth\n"
     ]
    }
   ],
   "source": [
    "# Python program to print DFS traversal from a given\n",
    "# given graph\n",
    "from collections import defaultdict\n",
    "\n",
    "# This class represents a directed graph using adjacency\n",
    "# list representation\n",
    "class Graph:\n",
    "\n",
    "\tdef __init__(self,vertices):\n",
    "\n",
    "\t\t# No. of vertices\n",
    "\t\tself.V = vertices\n",
    "\n",
    "\t\t# default dictionary to store graph\n",
    "\t\tself.graph = defaultdict(list)\n",
    "\n",
    "\t# function to add an edge to graph\n",
    "\tdef addEdge(self,u,v):\n",
    "\t\tself.graph[u].append(v)\n",
    "\n",
    "\t# A function to perform a Depth-Limited search\n",
    "\t# from given source 'src'\n",
    "\tdef DLS(self,src,target,maxDepth):\n",
    "\n",
    "\t\tif src == target : return True\n",
    "\n",
    "\t\t# If reached the maximum depth, stop recursing.\n",
    "\t\tif maxDepth <= 0 : return False\n",
    "\n",
    "\t\t# Recur for all the vertices adjacent to this vertex\n",
    "\t\tfor i in self.graph[src]:\n",
    "\t\t\t\tif(self.DLS(i,target,maxDepth-1)):\n",
    "\t\t\t\t\treturn True\n",
    "\t\treturn False\n",
    "\n",
    "\t# IDDFS to search if target is reachable from v.\n",
    "\t# It uses recursive DLS()\n",
    "\tdef IDDFS(self,src, target, maxDepth):\n",
    "\n",
    "\t\t# Repeatedly depth-limit search till the\n",
    "\t\t# maximum depth\n",
    "\t\tfor i in range(maxDepth+1):\n",
    "\t\t\tif (self.DLS(src, target, i)):\n",
    "\t\t\t\treturn True\n",
    "\t\treturn False\n",
    "\n",
    "# Create a graph given in the above diagram\n",
    "num_of_nodes = int(input(\"Enter number of nodes in the graph : \"))\n",
    "g = Graph (num_of_nodes);\n",
    "num_of_edges = int(input(\"Enter number of edges in the graph : \"))\n",
    "while(num_of_edges > 0):\n",
    "    u = int(input(\"Enter u vertex: \"))\n",
    "    v = int(input(\"Enter v vertex: \"))\n",
    "    g.addEdge(u, v)\n",
    "    num_of_edges -= 1\n",
    "target = int(input(\"Enter Target vertex : \"))\n",
    "maxDepth = int(input(\"Enter max depth allowed for searching : \"))\n",
    "src = int(input(\"Enter Source vertex : \"))\n",
    "\n",
    "if g.IDDFS(src, target, maxDepth) == True:\n",
    "\tprint (\"Target is reachable from source within max depth\")\n",
    "else :\n",
    "\tprint (\"Target is NOT reachable from source within max depth\")\n"
   ]
  },
  {
   "cell_type": "code",
   "execution_count": null,
   "id": "6eb9a93b",
   "metadata": {},
   "outputs": [],
   "source": []
  }
 ],
 "metadata": {
  "kernelspec": {
   "display_name": "Python 3",
   "language": "python",
   "name": "python3"
  },
  "language_info": {
   "codemirror_mode": {
    "name": "ipython",
    "version": 3
   },
   "file_extension": ".py",
   "mimetype": "text/x-python",
   "name": "python",
   "nbconvert_exporter": "python",
   "pygments_lexer": "ipython3",
   "version": "3.8.8"
  }
 },
 "nbformat": 4,
 "nbformat_minor": 5
}
